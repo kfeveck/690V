{
 "cells": [
  {
   "cell_type": "code",
   "execution_count": null,
   "metadata": {},
   "outputs": [],
   "source": [
    "from bokeh.plotting import figure\n",
    "from bokeh.io import output_notebook, show\n",
    "from bokeh.layouts import widgetbox, column\n",
    "from bokeh.models import ColumnDataSource\n",
    "from bokeh.models.widgets import Select\n",
    "from bokeh.models.callbacks import CustomJS\n",
    "output_notebook()"
   ]
  },
  {
   "cell_type": "code",
   "execution_count": null,
   "metadata": {
    "collapsed": true
   },
   "outputs": [],
   "source": [
    "import pandas as pd\n",
    "import numpy as np"
   ]
  },
  {
   "cell_type": "code",
   "execution_count": null,
   "metadata": {
    "collapsed": true
   },
   "outputs": [],
   "source": [
    "df = pd.read_csv('LE.csv',encoding = \"ISO-8859-1\") #read in csv of life expectancy gapminder data\n"
   ]
  },
  {
   "cell_type": "code",
   "execution_count": null,
   "metadata": {
    "collapsed": true
   },
   "outputs": [],
   "source": [
    "country_names = df['Life expectancy'].values #extra country names\n",
    "years = list(range(1800,2017))\n",
    "country_data = dict()\n",
    "for i, country in enumerate(country_names):\n",
    "    row = df.iloc[i].values #extract row as ndarray \n",
    "    country_data[country] = row[1:] #make dict of 'country':life_expectancy_values"
   ]
  },
  {
   "cell_type": "code",
   "execution_count": null,
   "metadata": {
    "collapsed": true
   },
   "outputs": [],
   "source": [
    "def create_fig():\n",
    "    country_choice= select.value\n",
    "    s = ColumnDataSource(data={\n",
    "        'x':years,\n",
    "        'y':country_data[country_choice]\n",
    "    })\n",
    "    p = figure(x_range=[1800,2016], y_range=[0,100])\n",
    "    p.line('x','y',source=s)\n",
    "\n",
    "    return p\n",
    "\n",
    "def update(att,old,new):\n",
    "    layout.children[1] = create_fig()"
   ]
  },
  {
   "cell_type": "code",
   "execution_count": null,
   "metadata": {
    "collapsed": true
   },
   "outputs": [],
   "source": [
    "country_tup = [(c,c) for c in country_names]\n",
    "select = Select(title=\"Select Country:\",options=country_tup, value=\"Abkhazia\")\n",
    "select.on_change('value',update)"
   ]
  },
  {
   "cell_type": "code",
   "execution_count": null,
   "metadata": {},
   "outputs": [],
   "source": [
    "p = figure(x_range=[1800,2016], y_range=[0,100])\n",
    "p.line('x','y',source=s)\n",
    "layout = column(select,p)\n",
    "show(layout)"
   ]
  },
  {
   "cell_type": "code",
   "execution_count": null,
   "metadata": {
    "collapsed": true
   },
   "outputs": [],
   "source": []
  }
 ],
 "metadata": {
  "kernelspec": {
   "display_name": "Python 3",
   "language": "python",
   "name": "python3"
  }
 },
 "nbformat": 4,
 "nbformat_minor": 2
}
